{
 "cells": [
  {
   "cell_type": "code",
   "execution_count": 1,
   "id": "2760a4a0",
   "metadata": {},
   "outputs": [],
   "source": [
    "from app.indexing.github_parsing import GitHubParser"
   ]
  },
  {
   "cell_type": "code",
   "execution_count": 2,
   "id": "7ee2d79d-772b-4b64-b4af-58d14d71ebe6",
   "metadata": {},
   "outputs": [],
   "source": [
    "url = \"https://github.com/huggingface/transformers\"\n",
    "parser = GitHubParser(url)"
   ]
  },
  {
   "cell_type": "code",
   "execution_count": 3,
   "id": "aceb315a-d7eb-424e-8d1e-4e2f554322c1",
   "metadata": {},
   "outputs": [
    {
     "data": {
      "text/plain": [
       "('huggingface', 'transformers', None)"
      ]
     },
     "execution_count": 3,
     "metadata": {},
     "output_type": "execute_result"
    }
   ],
   "source": [
    "parser.parse_url(url)"
   ]
  },
  {
   "cell_type": "code",
   "execution_count": 4,
   "id": "19476588-99e7-4f80-81f1-01dcd8428cf3",
   "metadata": {},
   "outputs": [
    {
     "data": {
      "text/plain": [
       "'huggingface'"
      ]
     },
     "metadata": {},
     "output_type": "display_data"
    }
   ],
   "source": [
    "display(parser.owner)"
   ]
  },
  {
   "cell_type": "code",
   "execution_count": 5,
   "id": "fdf2cf24-3ceb-431f-ae2f-681940a3df86",
   "metadata": {},
   "outputs": [
    {
     "data": {
      "text/plain": [
       "'transformers'"
      ]
     },
     "metadata": {},
     "output_type": "display_data"
    }
   ],
   "source": [
    "display(parser.repo)"
   ]
  },
  {
   "cell_type": "code",
   "execution_count": 6,
   "id": "9198fbf8-657f-42b6-93a3-f0d14a7e1002",
   "metadata": {},
   "outputs": [
    {
     "data": {
      "text/plain": [
       "None"
      ]
     },
     "metadata": {},
     "output_type": "display_data"
    }
   ],
   "source": [
    "display(parser.ref)"
   ]
  },
  {
   "cell_type": "code",
   "execution_count": null,
   "id": "f7f3a4cd-41f9-4e44-b584-35111e5e40aa",
   "metadata": {},
   "outputs": [
    {
     "name": "stdout",
     "output_type": "stream",
     "text": [
      "URL: https://codeload.github.com/huggingface/transformers/zip/master\n",
      "Response status code: 404\n",
      "URL: https://codeload.github.com/huggingface/transformers/zip/main\n"
     ]
    }
   ],
   "source": [
    "zipb = parser.fetch_repo_zip()"
   ]
  },
  {
   "cell_type": "code",
   "execution_count": null,
   "id": "c8243fe4-6137-4b37-b638-37df5aa1eba0",
   "metadata": {},
   "outputs": [],
   "source": []
  },
  {
   "cell_type": "code",
   "execution_count": null,
   "id": "d597f2ae-c499-4a77-b8b1-0ea6f924d17c",
   "metadata": {},
   "outputs": [],
   "source": []
  }
 ],
 "metadata": {
  "kernelspec": {
   "display_name": "Python 3 (ipykernel)",
   "language": "python",
   "name": "python3"
  },
  "language_info": {
   "codemirror_mode": {
    "name": "ipython",
    "version": 3
   },
   "file_extension": ".py",
   "mimetype": "text/x-python",
   "name": "python",
   "nbconvert_exporter": "python",
   "pygments_lexer": "ipython3",
   "version": "3.13.5"
  }
 },
 "nbformat": 4,
 "nbformat_minor": 5
}
